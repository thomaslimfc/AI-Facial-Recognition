{
 "cells": [
  {
   "metadata": {},
   "cell_type": "markdown",
   "source": "Install Required Libraries",
   "id": "ad9f3597eefd8bba"
  },
  {
   "metadata": {
    "ExecuteTime": {
     "end_time": "2024-08-15T01:52:43.390974Z",
     "start_time": "2024-08-15T01:52:42.046947Z"
    }
   },
   "cell_type": "code",
   "source": "!pip install ultralytics torch torchvision opencv-python pillow\n",
   "id": "7f8791a4525d696",
   "outputs": [
    {
     "name": "stdout",
     "output_type": "stream",
     "text": [
      "Requirement already satisfied: ultralytics in c:\\users\\asus tuf gaming f15\\appdata\\local\\programs\\python\\python311\\lib\\site-packages (8.2.72)\n",
      "Requirement already satisfied: torch in c:\\users\\asus tuf gaming f15\\appdata\\local\\programs\\python\\python311\\lib\\site-packages (2.4.0)\n",
      "Requirement already satisfied: torchvision in c:\\users\\asus tuf gaming f15\\appdata\\local\\programs\\python\\python311\\lib\\site-packages (0.19.0)\n",
      "Requirement already satisfied: opencv-python in c:\\users\\asus tuf gaming f15\\appdata\\local\\programs\\python\\python311\\lib\\site-packages (4.9.0.80)\n",
      "Requirement already satisfied: pillow in c:\\users\\asus tuf gaming f15\\appdata\\local\\programs\\python\\python311\\lib\\site-packages (10.4.0)\n",
      "Requirement already satisfied: numpy<2.0.0,>=1.23.0 in c:\\users\\asus tuf gaming f15\\appdata\\local\\programs\\python\\python311\\lib\\site-packages (from ultralytics) (1.26.4)\n",
      "Requirement already satisfied: matplotlib>=3.3.0 in c:\\users\\asus tuf gaming f15\\appdata\\local\\programs\\python\\python311\\lib\\site-packages (from ultralytics) (3.9.1)\n",
      "Requirement already satisfied: pyyaml>=5.3.1 in c:\\users\\asus tuf gaming f15\\appdata\\local\\programs\\python\\python311\\lib\\site-packages (from ultralytics) (6.0.1)\n",
      "Requirement already satisfied: requests>=2.23.0 in c:\\users\\asus tuf gaming f15\\appdata\\local\\programs\\python\\python311\\lib\\site-packages (from ultralytics) (2.32.3)\n",
      "Requirement already satisfied: scipy>=1.4.1 in c:\\users\\asus tuf gaming f15\\appdata\\local\\programs\\python\\python311\\lib\\site-packages (from ultralytics) (1.14.0)\n",
      "Requirement already satisfied: tqdm>=4.64.0 in c:\\users\\asus tuf gaming f15\\appdata\\local\\programs\\python\\python311\\lib\\site-packages (from ultralytics) (4.66.4)\n",
      "Requirement already satisfied: psutil in c:\\users\\asus tuf gaming f15\\appdata\\local\\programs\\python\\python311\\lib\\site-packages (from ultralytics) (6.0.0)\n",
      "Requirement already satisfied: py-cpuinfo in c:\\users\\asus tuf gaming f15\\appdata\\local\\programs\\python\\python311\\lib\\site-packages (from ultralytics) (9.0.0)\n",
      "Requirement already satisfied: pandas>=1.1.4 in c:\\users\\asus tuf gaming f15\\appdata\\local\\programs\\python\\python311\\lib\\site-packages (from ultralytics) (2.2.2)\n",
      "Requirement already satisfied: seaborn>=0.11.0 in c:\\users\\asus tuf gaming f15\\appdata\\local\\programs\\python\\python311\\lib\\site-packages (from ultralytics) (0.13.2)\n",
      "Requirement already satisfied: ultralytics-thop>=2.0.0 in c:\\users\\asus tuf gaming f15\\appdata\\local\\programs\\python\\python311\\lib\\site-packages (from ultralytics) (2.0.0)\n",
      "Requirement already satisfied: filelock in c:\\users\\asus tuf gaming f15\\appdata\\local\\programs\\python\\python311\\lib\\site-packages (from torch) (3.15.4)\n",
      "Requirement already satisfied: typing-extensions>=4.8.0 in c:\\users\\asus tuf gaming f15\\appdata\\local\\programs\\python\\python311\\lib\\site-packages (from torch) (4.11.0)\n",
      "Requirement already satisfied: sympy in c:\\users\\asus tuf gaming f15\\appdata\\local\\programs\\python\\python311\\lib\\site-packages (from torch) (1.13.1)\n",
      "Requirement already satisfied: networkx in c:\\users\\asus tuf gaming f15\\appdata\\local\\programs\\python\\python311\\lib\\site-packages (from torch) (3.3)\n",
      "Requirement already satisfied: jinja2 in c:\\users\\asus tuf gaming f15\\appdata\\local\\programs\\python\\python311\\lib\\site-packages (from torch) (3.1.4)\n",
      "Requirement already satisfied: fsspec in c:\\users\\asus tuf gaming f15\\appdata\\local\\programs\\python\\python311\\lib\\site-packages (from torch) (2024.6.1)\n",
      "Requirement already satisfied: contourpy>=1.0.1 in c:\\users\\asus tuf gaming f15\\appdata\\local\\programs\\python\\python311\\lib\\site-packages (from matplotlib>=3.3.0->ultralytics) (1.2.1)\n",
      "Requirement already satisfied: cycler>=0.10 in c:\\users\\asus tuf gaming f15\\appdata\\local\\programs\\python\\python311\\lib\\site-packages (from matplotlib>=3.3.0->ultralytics) (0.12.1)\n",
      "Requirement already satisfied: fonttools>=4.22.0 in c:\\users\\asus tuf gaming f15\\appdata\\local\\programs\\python\\python311\\lib\\site-packages (from matplotlib>=3.3.0->ultralytics) (4.53.1)\n",
      "Requirement already satisfied: kiwisolver>=1.3.1 in c:\\users\\asus tuf gaming f15\\appdata\\local\\programs\\python\\python311\\lib\\site-packages (from matplotlib>=3.3.0->ultralytics) (1.4.5)\n",
      "Requirement already satisfied: packaging>=20.0 in c:\\users\\asus tuf gaming f15\\appdata\\local\\programs\\python\\python311\\lib\\site-packages (from matplotlib>=3.3.0->ultralytics) (24.1)\n",
      "Requirement already satisfied: pyparsing>=2.3.1 in c:\\users\\asus tuf gaming f15\\appdata\\local\\programs\\python\\python311\\lib\\site-packages (from matplotlib>=3.3.0->ultralytics) (3.1.2)\n",
      "Requirement already satisfied: python-dateutil>=2.7 in c:\\users\\asus tuf gaming f15\\appdata\\local\\programs\\python\\python311\\lib\\site-packages (from matplotlib>=3.3.0->ultralytics) (2.9.0.post0)\n",
      "Requirement already satisfied: pytz>=2020.1 in c:\\users\\asus tuf gaming f15\\appdata\\local\\programs\\python\\python311\\lib\\site-packages (from pandas>=1.1.4->ultralytics) (2024.1)\n",
      "Requirement already satisfied: tzdata>=2022.7 in c:\\users\\asus tuf gaming f15\\appdata\\local\\programs\\python\\python311\\lib\\site-packages (from pandas>=1.1.4->ultralytics) (2024.1)\n",
      "Requirement already satisfied: charset-normalizer<4,>=2 in c:\\users\\asus tuf gaming f15\\appdata\\local\\programs\\python\\python311\\lib\\site-packages (from requests>=2.23.0->ultralytics) (3.3.2)\n",
      "Requirement already satisfied: idna<4,>=2.5 in c:\\users\\asus tuf gaming f15\\appdata\\local\\programs\\python\\python311\\lib\\site-packages (from requests>=2.23.0->ultralytics) (3.7)\n",
      "Requirement already satisfied: urllib3<3,>=1.21.1 in c:\\users\\asus tuf gaming f15\\appdata\\local\\programs\\python\\python311\\lib\\site-packages (from requests>=2.23.0->ultralytics) (2.2.1)\n",
      "Requirement already satisfied: certifi>=2017.4.17 in c:\\users\\asus tuf gaming f15\\appdata\\local\\programs\\python\\python311\\lib\\site-packages (from requests>=2.23.0->ultralytics) (2024.2.2)\n",
      "Requirement already satisfied: colorama in c:\\users\\asus tuf gaming f15\\appdata\\local\\programs\\python\\python311\\lib\\site-packages (from tqdm>=4.64.0->ultralytics) (0.4.6)\n",
      "Requirement already satisfied: MarkupSafe>=2.0 in c:\\users\\asus tuf gaming f15\\appdata\\local\\programs\\python\\python311\\lib\\site-packages (from jinja2->torch) (2.1.5)\n",
      "Requirement already satisfied: mpmath<1.4,>=1.1.0 in c:\\users\\asus tuf gaming f15\\appdata\\local\\programs\\python\\python311\\lib\\site-packages (from sympy->torch) (1.3.0)\n",
      "Requirement already satisfied: six>=1.5 in c:\\users\\asus tuf gaming f15\\appdata\\local\\programs\\python\\python311\\lib\\site-packages (from python-dateutil>=2.7->matplotlib>=3.3.0->ultralytics) (1.16.0)\n"
     ]
    }
   ],
   "execution_count": 13
  },
  {
   "metadata": {},
   "cell_type": "markdown",
   "source": "Initialize the YOLOv8 Object Detection Model",
   "id": "adf95d4f646f8fcc"
  },
  {
   "cell_type": "code",
   "id": "initial_id",
   "metadata": {
    "collapsed": true,
    "ExecuteTime": {
     "end_time": "2024-08-15T01:53:07.720449Z",
     "start_time": "2024-08-15T01:53:07.473908Z"
    }
   },
   "source": [
    "from ultralytics import YOLO\n",
    "\n",
    "# Load the YOLOv8 model (ensure that you have the 'yolov8s.pt' model file)\n",
    "yolo_model = YOLO('yolov8s.pt')\n"
   ],
   "outputs": [
    {
     "ename": "OSError",
     "evalue": "[WinError 126] The specified module could not be found. Error loading \"C:\\Users\\Asus TUF Gaming F15\\AppData\\Local\\Programs\\Python\\Python311\\Lib\\site-packages\\torch\\lib\\fbgemm.dll\" or one of its dependencies.",
     "output_type": "error",
     "traceback": [
      "\u001B[1;31m---------------------------------------------------------------------------\u001B[0m",
      "\u001B[1;31mOSError\u001B[0m                                   Traceback (most recent call last)",
      "Cell \u001B[1;32mIn[14], line 1\u001B[0m\n\u001B[1;32m----> 1\u001B[0m \u001B[38;5;28;01mfrom\u001B[39;00m \u001B[38;5;21;01multralytics\u001B[39;00m \u001B[38;5;28;01mimport\u001B[39;00m YOLO\n\u001B[0;32m      3\u001B[0m \u001B[38;5;66;03m# Load the YOLOv8 model (ensure that you have the 'yolov8s.pt' model file)\u001B[39;00m\n\u001B[0;32m      4\u001B[0m yolo_model \u001B[38;5;241m=\u001B[39m YOLO(\u001B[38;5;124m'\u001B[39m\u001B[38;5;124myolov8s.pt\u001B[39m\u001B[38;5;124m'\u001B[39m)\n",
      "File \u001B[1;32m~\\AppData\\Local\\Programs\\Python\\Python311\\Lib\\site-packages\\ultralytics\\__init__.py:10\u001B[0m\n\u001B[0;32m      7\u001B[0m \u001B[38;5;66;03m# Set ENV Variables (place before imports)\u001B[39;00m\n\u001B[0;32m      8\u001B[0m os\u001B[38;5;241m.\u001B[39menviron[\u001B[38;5;124m\"\u001B[39m\u001B[38;5;124mOMP_NUM_THREADS\u001B[39m\u001B[38;5;124m\"\u001B[39m] \u001B[38;5;241m=\u001B[39m \u001B[38;5;124m\"\u001B[39m\u001B[38;5;124m1\u001B[39m\u001B[38;5;124m\"\u001B[39m  \u001B[38;5;66;03m# reduce CPU utilization during training\u001B[39;00m\n\u001B[1;32m---> 10\u001B[0m \u001B[38;5;28;01mfrom\u001B[39;00m \u001B[38;5;21;01multralytics\u001B[39;00m\u001B[38;5;21;01m.\u001B[39;00m\u001B[38;5;21;01mdata\u001B[39;00m\u001B[38;5;21;01m.\u001B[39;00m\u001B[38;5;21;01mexplorer\u001B[39;00m\u001B[38;5;21;01m.\u001B[39;00m\u001B[38;5;21;01mexplorer\u001B[39;00m \u001B[38;5;28;01mimport\u001B[39;00m Explorer\n\u001B[0;32m     11\u001B[0m \u001B[38;5;28;01mfrom\u001B[39;00m \u001B[38;5;21;01multralytics\u001B[39;00m\u001B[38;5;21;01m.\u001B[39;00m\u001B[38;5;21;01mmodels\u001B[39;00m \u001B[38;5;28;01mimport\u001B[39;00m NAS, RTDETR, SAM, SAM2, YOLO, FastSAM, YOLOWorld\n\u001B[0;32m     12\u001B[0m \u001B[38;5;28;01mfrom\u001B[39;00m \u001B[38;5;21;01multralytics\u001B[39;00m\u001B[38;5;21;01m.\u001B[39;00m\u001B[38;5;21;01mutils\u001B[39;00m \u001B[38;5;28;01mimport\u001B[39;00m ASSETS, SETTINGS\n",
      "File \u001B[1;32m~\\AppData\\Local\\Programs\\Python\\Python311\\Lib\\site-packages\\ultralytics\\data\\__init__.py:3\u001B[0m\n\u001B[0;32m      1\u001B[0m \u001B[38;5;66;03m# Ultralytics YOLO 🚀, AGPL-3.0 license\u001B[39;00m\n\u001B[1;32m----> 3\u001B[0m \u001B[38;5;28;01mfrom\u001B[39;00m \u001B[38;5;21;01m.\u001B[39;00m\u001B[38;5;21;01mbase\u001B[39;00m \u001B[38;5;28;01mimport\u001B[39;00m BaseDataset\n\u001B[0;32m      4\u001B[0m \u001B[38;5;28;01mfrom\u001B[39;00m \u001B[38;5;21;01m.\u001B[39;00m\u001B[38;5;21;01mbuild\u001B[39;00m \u001B[38;5;28;01mimport\u001B[39;00m build_dataloader, build_grounding, build_yolo_dataset, load_inference_source\n\u001B[0;32m      5\u001B[0m \u001B[38;5;28;01mfrom\u001B[39;00m \u001B[38;5;21;01m.\u001B[39;00m\u001B[38;5;21;01mdataset\u001B[39;00m \u001B[38;5;28;01mimport\u001B[39;00m (\n\u001B[0;32m      6\u001B[0m     ClassificationDataset,\n\u001B[0;32m      7\u001B[0m     GroundingDataset,\n\u001B[1;32m   (...)\u001B[0m\n\u001B[0;32m     11\u001B[0m     YOLOMultiModalDataset,\n\u001B[0;32m     12\u001B[0m )\n",
      "File \u001B[1;32m~\\AppData\\Local\\Programs\\Python\\Python311\\Lib\\site-packages\\ultralytics\\data\\base.py:15\u001B[0m\n\u001B[0;32m     13\u001B[0m \u001B[38;5;28;01mimport\u001B[39;00m \u001B[38;5;21;01mnumpy\u001B[39;00m \u001B[38;5;28;01mas\u001B[39;00m \u001B[38;5;21;01mnp\u001B[39;00m\n\u001B[0;32m     14\u001B[0m \u001B[38;5;28;01mimport\u001B[39;00m \u001B[38;5;21;01mpsutil\u001B[39;00m\n\u001B[1;32m---> 15\u001B[0m \u001B[38;5;28;01mfrom\u001B[39;00m \u001B[38;5;21;01mtorch\u001B[39;00m\u001B[38;5;21;01m.\u001B[39;00m\u001B[38;5;21;01mutils\u001B[39;00m\u001B[38;5;21;01m.\u001B[39;00m\u001B[38;5;21;01mdata\u001B[39;00m \u001B[38;5;28;01mimport\u001B[39;00m Dataset\n\u001B[0;32m     17\u001B[0m \u001B[38;5;28;01mfrom\u001B[39;00m \u001B[38;5;21;01multralytics\u001B[39;00m\u001B[38;5;21;01m.\u001B[39;00m\u001B[38;5;21;01mdata\u001B[39;00m\u001B[38;5;21;01m.\u001B[39;00m\u001B[38;5;21;01mutils\u001B[39;00m \u001B[38;5;28;01mimport\u001B[39;00m FORMATS_HELP_MSG, HELP_URL, IMG_FORMATS\n\u001B[0;32m     18\u001B[0m \u001B[38;5;28;01mfrom\u001B[39;00m \u001B[38;5;21;01multralytics\u001B[39;00m\u001B[38;5;21;01m.\u001B[39;00m\u001B[38;5;21;01mutils\u001B[39;00m \u001B[38;5;28;01mimport\u001B[39;00m DEFAULT_CFG, LOCAL_RANK, LOGGER, NUM_THREADS, TQDM\n",
      "File \u001B[1;32m~\\AppData\\Local\\Programs\\Python\\Python311\\Lib\\site-packages\\torch\\__init__.py:148\u001B[0m\n\u001B[0;32m    146\u001B[0m                 err \u001B[38;5;241m=\u001B[39m ctypes\u001B[38;5;241m.\u001B[39mWinError(ctypes\u001B[38;5;241m.\u001B[39mget_last_error())\n\u001B[0;32m    147\u001B[0m                 err\u001B[38;5;241m.\u001B[39mstrerror \u001B[38;5;241m+\u001B[39m\u001B[38;5;241m=\u001B[39m \u001B[38;5;124mf\u001B[39m\u001B[38;5;124m'\u001B[39m\u001B[38;5;124m Error loading \u001B[39m\u001B[38;5;124m\"\u001B[39m\u001B[38;5;132;01m{\u001B[39;00mdll\u001B[38;5;132;01m}\u001B[39;00m\u001B[38;5;124m\"\u001B[39m\u001B[38;5;124m or one of its dependencies.\u001B[39m\u001B[38;5;124m'\u001B[39m\n\u001B[1;32m--> 148\u001B[0m                 \u001B[38;5;28;01mraise\u001B[39;00m err\n\u001B[0;32m    150\u001B[0m     kernel32\u001B[38;5;241m.\u001B[39mSetErrorMode(prev_error_mode)\n\u001B[0;32m    153\u001B[0m \u001B[38;5;28;01mdef\u001B[39;00m \u001B[38;5;21m_preload_cuda_deps\u001B[39m(lib_folder, lib_name):\n",
      "\u001B[1;31mOSError\u001B[0m: [WinError 126] The specified module could not be found. Error loading \"C:\\Users\\Asus TUF Gaming F15\\AppData\\Local\\Programs\\Python\\Python311\\Lib\\site-packages\\torch\\lib\\fbgemm.dll\" or one of its dependencies."
     ]
    }
   ],
   "execution_count": 14
  },
  {
   "metadata": {},
   "cell_type": "markdown",
   "source": "Load Age and Gender Detection Models",
   "id": "f0e05528637ef226"
  },
  {
   "metadata": {},
   "cell_type": "code",
   "outputs": [],
   "execution_count": null,
   "source": [
    "import torch\n",
    "\n",
    "# Load AgeNet and GenderNet models\n",
    "age_model = torch.load('agenet.pth')  # Ensure the correct path to the model file\n",
    "age_model.eval()  # Set the model to evaluation mode\n",
    "\n",
    "gender_model = torch.load('gendernet.pth')  # Ensure the correct path to the model file\n",
    "gender_model.eval()  # Set the model to evaluation mode\n"
   ],
   "id": "d46ae7660eb6439e"
  },
  {
   "metadata": {},
   "cell_type": "markdown",
   "source": "Define Preprocessing for Age and Gender Models",
   "id": "9a50c04fd8ba9257"
  },
  {
   "metadata": {},
   "cell_type": "code",
   "outputs": [],
   "execution_count": null,
   "source": [
    "from torchvision import transforms\n",
    "\n",
    "# Define preprocessing transformation for face images\n",
    "transform = transforms.Compose([\n",
    "    transforms.Resize((224, 224)),  # Resize to 224x224 pixels\n",
    "    transforms.ToTensor(),  # Convert the image to a tensor\n",
    "    transforms.Normalize(mean=[0.485, 0.456, 0.406], std=[0.229, 0.224, 0.225])  # Normalize\n",
    "])\n"
   ],
   "id": "cdc63346c96386dc"
  },
  {
   "metadata": {},
   "cell_type": "markdown",
   "source": "Helper Functions for Age and Gender Prediction",
   "id": "28418afaeb27e80d"
  },
  {
   "metadata": {},
   "cell_type": "code",
   "outputs": [],
   "execution_count": null,
   "source": [
    "from PIL import Image\n",
    "\n",
    "# Function to predict age\n",
    "def predict_age(face_image):\n",
    "    face_tensor = transform(face_image).unsqueeze(0)  # Add batch dimension\n",
    "    with torch.no_grad():\n",
    "        age_prediction = age_model(face_tensor)\n",
    "    age = age_prediction.argmax().item()  # Assuming age model gives classification output\n",
    "    return age\n",
    "\n",
    "# Function to predict gender\n",
    "def predict_gender(face_image):\n",
    "    face_tensor = transform(face_image).unsqueeze(0)  # Add batch dimension\n",
    "    with torch.no_grad():\n",
    "        gender_prediction = gender_model(face_tensor)\n",
    "    gender = \"Male\" if gender_prediction.argmax().item() == 1 else \"Female\"\n",
    "    return gender\n"
   ],
   "id": "aa3d3283ff8d86f7"
  },
  {
   "metadata": {},
   "cell_type": "markdown",
   "source": "Capture Video Input",
   "id": "9c21f1370dff02b0"
  },
  {
   "metadata": {},
   "cell_type": "code",
   "outputs": [],
   "execution_count": null,
   "source": [
    "import cv2\n",
    "\n",
    "# Open video capture (0 for default camera)\n",
    "cap = cv2.VideoCapture(0)\n",
    "\n",
    "# Test if the camera opened successfully\n",
    "if not cap.isOpened():\n",
    "    print(\"Error: Could not open camera\")\n",
    "    exit()  # Exit if the camera can't be opened\n"
   ],
   "id": "209f95628904a4e9"
  },
  {
   "metadata": {},
   "cell_type": "markdown",
   "source": "Perform Object Detection, Age and Gender Detection",
   "id": "53d31e088afcc69a"
  },
  {
   "metadata": {},
   "cell_type": "code",
   "outputs": [],
   "execution_count": null,
   "source": [
    "while True:\n",
    "    ret, frame = cap.read()\n",
    "    if not ret:\n",
    "        break\n",
    "    \n",
    "    # Perform object detection using YOLOv8\n",
    "    results = yolo_model(frame)  # YOLOv8 performs detection\n",
    "    \n",
    "    # Loop through the detected objects (bounding boxes, labels, etc.)\n",
    "    for result in results.xyxy[0]:  # Loop through each detection in the frame\n",
    "        x1, y1, x2, y2, confidence, label = result  # Extract bounding box coordinates and label\n",
    "        label = int(label.item())  # Convert tensor label to integer\n",
    "        \n",
    "        # Assuming label '0' corresponds to 'face'\n",
    "        if label == 0:  # Adjust label if needed for face detection\n",
    "            # Extract the face from the frame\n",
    "            face = frame[int(y1):int(y2), int(x1):int(x2)]\n",
    "            face_image = Image.fromarray(cv2.cvtColor(face, cv2.COLOR_BGR2RGB))  # Convert to PIL Image\n",
    "\n",
    "            # Predict age and gender\n",
    "            age = predict_age(face_image)\n",
    "            gender = predict_gender(face_image)\n",
    "\n",
    "            # Draw bounding box and annotate with age and gender\n",
    "            cv2.rectangle(frame, (int(x1), int(y1)), (int(x2), int(y2)), (0, 255, 0), 2)\n",
    "            cv2.putText(frame, f\"Age: {age}\", (int(x1), int(y1) - 30), cv2.FONT_HERSHEY_SIMPLEX, 0.9, (0, 255, 0), 2)\n",
    "            cv2.putText(frame, f\"Gender: {gender}\", (int(x1), int(y1) - 10), cv2.FONT_HERSHEY_SIMPLEX, 0.9, (0, 255, 0), 2)\n",
    "    \n",
    "    # Display the video with annotations\n",
    "    cv2.imshow('Facial Recognition System', frame)\n",
    "\n",
    "    # Exit when 'q' is pressed\n",
    "    if cv2.waitKey(1) & 0xFF == ord('q'):\n",
    "        break\n"
   ],
   "id": "239c55f5ba9a453e"
  },
  {
   "metadata": {},
   "cell_type": "markdown",
   "source": "Clean Up",
   "id": "50d2d13bb5d30fda"
  },
  {
   "metadata": {},
   "cell_type": "code",
   "outputs": [],
   "execution_count": null,
   "source": [
    "# Release the video capture and destroy any OpenCV windows\n",
    "cap.release()\n",
    "cv2.destroyAllWindows()\n"
   ],
   "id": "e448c7e9147fb3c2"
  }
 ],
 "metadata": {
  "kernelspec": {
   "display_name": "Python 3",
   "language": "python",
   "name": "python3"
  },
  "language_info": {
   "codemirror_mode": {
    "name": "ipython",
    "version": 2
   },
   "file_extension": ".py",
   "mimetype": "text/x-python",
   "name": "python",
   "nbconvert_exporter": "python",
   "pygments_lexer": "ipython2",
   "version": "2.7.6"
  }
 },
 "nbformat": 4,
 "nbformat_minor": 5
}
