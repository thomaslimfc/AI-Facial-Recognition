{
 "cells": [
  {
   "cell_type": "code",
   "id": "initial_id",
   "metadata": {
    "collapsed": true,
    "ExecuteTime": {
     "end_time": "2024-08-02T15:28:12.526082Z",
     "start_time": "2024-08-02T15:28:12.520399Z"
    }
   },
   "source": "pip install tensorflow-gpu\n",
   "outputs": [
    {
     "ename": "SyntaxError",
     "evalue": "invalid syntax (1607878214.py, line 1)",
     "output_type": "error",
     "traceback": [
      "\u001B[1;36m  Cell \u001B[1;32mIn[1], line 1\u001B[1;36m\u001B[0m\n\u001B[1;33m    pip install tensorflow-gpu\u001B[0m\n\u001B[1;37m        ^\u001B[0m\n\u001B[1;31mSyntaxError\u001B[0m\u001B[1;31m:\u001B[0m invalid syntax\n"
     ]
    }
   ],
   "execution_count": 1
  },
  {
   "metadata": {},
   "cell_type": "code",
   "outputs": [],
   "execution_count": null,
   "source": "pip install torch torchvision torchaudio --index-url https://download.pytorch.org/whl/cu118\n",
   "id": "b25266320a1aa1d9"
  },
  {
   "metadata": {},
   "cell_type": "code",
   "outputs": [],
   "execution_count": null,
   "source": [
    "import tensorflow as tf\n",
    "print(\"Num GPUs Available: \", len(tf.config.list_physical_devices('GPU')))\n"
   ],
   "id": "a259d0aa14b6a54a"
  },
  {
   "metadata": {},
   "cell_type": "code",
   "outputs": [],
   "execution_count": null,
   "source": [
    "import torch\n",
    "print(\"CUDA available: \", torch.cuda.is_available())\n",
    "print(\"CUDA device count: \", torch.cuda.device_count())\n"
   ],
   "id": "d675c2d956c25715"
  },
  {
   "metadata": {},
   "cell_type": "code",
   "outputs": [],
   "execution_count": null,
   "source": [
    "import torch\n",
    "\n",
    "device = torch.device('cuda' if torch.cuda.is_available() else 'cpu')\n",
    "\n",
    "# Example usage\n",
    "tensor = torch.randn(3, 3).to(device)\n"
   ],
   "id": "31c5c4f5bc7643d5"
  },
  {
   "metadata": {},
   "cell_type": "code",
   "outputs": [],
   "execution_count": null,
   "source": [
    "import cv2\n",
    "from deepface import DeepFace\n",
    "import tensorflow as tf\n",
    "\n",
    "# Check GPU availability\n",
    "print(\"Num GPUs Available: \", len(tf.config.list_physical_devices('GPU')))\n",
    "\n",
    "# Load the image\n",
    "image_path = 'path_to_image.jpg'\n",
    "image = cv2.imread(image_path)\n",
    "\n",
    "# Analyze the image for age, gender, and emotion\n",
    "analysis = DeepFace.analyze(image, actions=['age', 'gender', 'emotion'])\n",
    "\n",
    "# Extract information\n",
    "age = analysis['age']\n",
    "gender = analysis['gender']\n",
    "emotion = analysis['dominant_emotion']\n",
    "\n",
    "print(f\"Age: {age}\")\n",
    "print(f\"Gender: {gender}\")\n",
    "print(f\"Emotion: {emotion}\")\n",
    "\n",
    "# Optionally, draw the results on the image\n",
    "for face in analysis['instances']:\n",
    "    x, y, w, h = face['region']['x'], face['region']['y'], face['region']['w'], face['region']['h']\n",
    "    cv2.rectangle(image, (x, y), (x+w, y+h), (0, 255, 0), 2)\n",
    "    cv2.putText(image, f\"Age: {age}\", (x, y-30), cv2.FONT_HERSHEY_SIMPLEX, 1, (255, 255, 255), 2)\n",
    "    cv2.putText(image, f\"Gender: {gender}\", (x, y-10), cv2.FONT_HERSHEY_SIMPLEX, 1, (255, 255, 255), 2)\n",
    "    cv2.putText(image, f\"Emotion: {emotion}\", (x, y+h+20), cv2.FONT_HERSHEY_SIMPLEX, 1, (255, 255, 255), 2)\n",
    "\n",
    "# Display the image\n",
    "cv2.imshow('Image', image)\n",
    "cv2.waitKey(0)\n",
    "cv2.destroyAllWindows()\n"
   ],
   "id": "4eb6de6374eec5eb"
  },
  {
   "metadata": {
    "ExecuteTime": {
     "end_time": "2024-08-15T01:39:49.183690Z",
     "start_time": "2024-08-15T01:39:49.158998Z"
    }
   },
   "cell_type": "code",
   "source": [
    "pip uninstall torch\n",
    "pip install torch\n"
   ],
   "id": "9c822df11f7fe678",
   "outputs": [
    {
     "ename": "SyntaxError",
     "evalue": "invalid syntax (2153277059.py, line 1)",
     "output_type": "error",
     "traceback": [
      "\u001B[1;36m  Cell \u001B[1;32mIn[1], line 1\u001B[1;36m\u001B[0m\n\u001B[1;33m    pip uninstall torch\u001B[0m\n\u001B[1;37m        ^\u001B[0m\n\u001B[1;31mSyntaxError\u001B[0m\u001B[1;31m:\u001B[0m invalid syntax\n"
     ]
    }
   ],
   "execution_count": 1
  },
  {
   "metadata": {
    "ExecuteTime": {
     "end_time": "2024-08-15T01:40:05.654867Z",
     "start_time": "2024-08-15T01:40:05.647351Z"
    }
   },
   "cell_type": "code",
   "source": [
    "# For Windows\n",
    ".\\venv\\Scripts\\activate\n"
   ],
   "id": "a77bd0e4a0c61ca9",
   "outputs": [
    {
     "ename": "SyntaxError",
     "evalue": "invalid syntax (2376768642.py, line 2)",
     "output_type": "error",
     "traceback": [
      "\u001B[1;36m  Cell \u001B[1;32mIn[3], line 2\u001B[1;36m\u001B[0m\n\u001B[1;33m    .\\venv\\Scripts\\activate\u001B[0m\n\u001B[1;37m    ^\u001B[0m\n\u001B[1;31mSyntaxError\u001B[0m\u001B[1;31m:\u001B[0m invalid syntax\n"
     ]
    }
   ],
   "execution_count": 3
  },
  {
   "metadata": {
    "ExecuteTime": {
     "end_time": "2024-08-15T01:40:13.750350Z",
     "start_time": "2024-08-15T01:40:13.741486Z"
    }
   },
   "cell_type": "code",
   "source": [
    "# For Windows\n",
    ".\\venv\\Scripts\\activate\n"
   ],
   "id": "d4c4d27798af6807",
   "outputs": [
    {
     "ename": "SyntaxError",
     "evalue": "invalid syntax (2376768642.py, line 2)",
     "output_type": "error",
     "traceback": [
      "\u001B[1;36m  Cell \u001B[1;32mIn[4], line 2\u001B[1;36m\u001B[0m\n\u001B[1;33m    .\\venv\\Scripts\\activate\u001B[0m\n\u001B[1;37m    ^\u001B[0m\n\u001B[1;31mSyntaxError\u001B[0m\u001B[1;31m:\u001B[0m invalid syntax\n"
     ]
    }
   ],
   "execution_count": 4
  },
  {
   "metadata": {},
   "cell_type": "code",
   "outputs": [],
   "execution_count": null,
   "source": "",
   "id": "29e4a7c48893c2cb"
  }
 ],
 "metadata": {
  "kernelspec": {
   "display_name": "Python 3",
   "language": "python",
   "name": "python3"
  },
  "language_info": {
   "codemirror_mode": {
    "name": "ipython",
    "version": 2
   },
   "file_extension": ".py",
   "mimetype": "text/x-python",
   "name": "python",
   "nbconvert_exporter": "python",
   "pygments_lexer": "ipython2",
   "version": "2.7.6"
  }
 },
 "nbformat": 4,
 "nbformat_minor": 5
}
